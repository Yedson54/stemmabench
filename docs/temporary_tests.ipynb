{
 "cells": [
  {
   "cell_type": "markdown",
   "id": "7791ac88",
   "metadata": {},
   "source": [
    "# Temporary tests"
   ]
  },
  {
   "cell_type": "code",
   "execution_count": 2,
   "id": "303ffee3",
   "metadata": {},
   "outputs": [
    {
     "data": {
      "text/plain": [
       "1"
      ]
     },
     "execution_count": 2,
     "metadata": {},
     "output_type": "execute_result"
    }
   ],
   "source": [
    "import sys\n",
    "from stemmabench.stemma_generator import Stemma\n",
    "from stemmabench.config_parser import StemmaBenchConfig\n",
    "from loguru import logger\n",
    "# Set logging level to info\n",
    "logger.remove()\n",
    "logger.add(sys.stderr, level=\"INFO\")"
   ]
  },
  {
   "cell_type": "code",
   "execution_count": 2,
   "id": "2d96529b",
   "metadata": {},
   "outputs": [],
   "source": [
    "# config = StemmaBenchConfig(**{\n",
    "#     \"meta\": {\n",
    "#       \"language\": \"eng\"  \n",
    "#     },\n",
    "#     \"stemma\": {\n",
    "#         \"depth\": 3,\n",
    "#         \"width\": {\n",
    "#             \"law\": \"Uniform\",\n",
    "#             \"min\": 2,\n",
    "#             \"max\": 4\n",
    "#         }\n",
    "#     },\n",
    "#     \"variants\": {\n",
    "#         \"sentences\": {\n",
    "#             \"duplicate\": {\n",
    "#                         \"args\": {\n",
    "#                                     \"nbr_words\": 1\n",
    "#                                 },\n",
    "#                                 \"law\": \"Bernouilli\",\n",
    "#                                 \"rate\": 1\n",
    "#                             }\n",
    "#         },\n",
    "#         \"words\": {\n",
    "#                     \"synonym\": {\n",
    "#                         \"law\": \"Bernouilli\",\n",
    "#                         \"rate\": 0.05,\n",
    "#                         \"args\": {}\n",
    "#                     },\n",
    "#                     \"mispell\": {\n",
    "#                         \"law\": \"Bernouilli\",\n",
    "#                         \"rate\": 0.001,\n",
    "#                         \"args\": {}\n",
    "#                     },\n",
    "#                     \"omit\": {\n",
    "#                         \"law\": \"Bernouilli\",\n",
    "#                         \"rate\": 0.001,\n",
    "#                         \"args\": {}\n",
    "#                     }\n",
    "#                 }\n",
    "#             }\n",
    "# })"
   ]
  },
  {
   "cell_type": "code",
   "execution_count": 1,
   "id": "62d9e60e",
   "metadata": {},
   "outputs": [],
   "source": [
    "import random\n",
    "from typing import List, Tuple"
   ]
  },
  {
   "cell_type": "code",
   "execution_count": 2,
   "id": "a5729689",
   "metadata": {},
   "outputs": [],
   "source": [
    "def generate_fake_text(num_phrases):\n",
    "    phrases = []\n",
    "    for i in range(1, num_phrases + 1):\n",
    "        phrase = f\"Phrase {i}.\"\n",
    "        phrases.append(phrase)\n",
    "\n",
    "    fake_text = \" \".join(phrases)\n",
    "    return fake_text"
   ]
  },
  {
   "cell_type": "code",
   "execution_count": 3,
   "id": "e22bf312",
   "metadata": {},
   "outputs": [
    {
     "name": "stdout",
     "output_type": "stream",
     "text": [
      "['Phrase 1', 'Phrase 2', 'Phrase 3', 'Phrase 4', 'Phrase 5']\n"
     ]
    }
   ],
   "source": [
    "DEMO_TEXT = generate_fake_text(20)\n",
    "print(DEMO_TEXT.split(\". \")[:5])"
   ]
  },
  {
   "cell_type": "code",
   "execution_count": 4,
   "id": "6a693de6",
   "metadata": {},
   "outputs": [],
   "source": [
    "def fragment(text: str, deletion_prob: float) -> str:\n",
    "    \"\"\"Fragment a text by removing random sentences.\n",
    "\n",
    "    Args:\n",
    "        deletion_prob (float): The probability of sentence deletion.\n",
    "\n",
    "    Returns:\n",
    "        str: The text with sentences deleted.\n",
    "    \"\"\"\n",
    "    sentences = text.split(\".\")\n",
    "    num_sentences_to_delete = int(deletion_prob * len(sentences))\n",
    "    if num_sentences_to_delete > 0:\n",
    "        deletion_indices = random.sample(range(len(sentences)),\n",
    "                                            num_sentences_to_delete)\n",
    "        for index in sorted(deletion_indices, reverse=True):\n",
    "            del sentences[index]\n",
    "    return \".\".join(sentences)"
   ]
  },
  {
   "cell_type": "code",
   "execution_count": 5,
   "id": "98e7b181",
   "metadata": {},
   "outputs": [
    {
     "name": "stdout",
     "output_type": "stream",
     "text": [
      "Phrase 1. Phrase 2. Phrase 6. Phrase 7. Phrase 8. Phrase 9. Phrase 10. Phrase 11. Phrase 13. Phrase 15. Phrase 16. Phrase 17. Phrase 18. Phrase 19. Phrase 20.\n"
     ]
    }
   ],
   "source": [
    "print(fragment(DEMO_TEXT, 0.25))"
   ]
  },
  {
   "cell_type": "markdown",
   "id": "460b1a5a",
   "metadata": {},
   "source": [
    "Create a stemma object:"
   ]
  },
  {
   "cell_type": "code",
   "execution_count": 4,
   "id": "6b082d9f",
   "metadata": {},
   "outputs": [],
   "source": [
    "# Create a stemma object.\n",
    "# stemma = Stemma(original_text=DEMO_TEXT, config=config)\n",
    "\n",
    "# Generate a tradition.\n",
    "# stemma.generate()"
   ]
  },
  {
   "cell_type": "markdown",
   "id": "8d82129c",
   "metadata": {},
   "source": [
    "Each text can be accessed through its lookup table, which can be used to get the tree stemma."
   ]
  },
  {
   "cell_type": "code",
   "execution_count": null,
   "id": "3c80925d",
   "metadata": {},
   "outputs": [],
   "source": [
    "# stemma.texts_lookup"
   ]
  },
  {
   "cell_type": "markdown",
   "id": "e07960b4",
   "metadata": {},
   "source": [
    "It is also possible to access the edges describing only the manuscript names and their family relation."
   ]
  },
  {
   "cell_type": "code",
   "execution_count": null,
   "id": "58334fa8",
   "metadata": {},
   "outputs": [],
   "source": [
    "# stemma.edges"
   ]
  }
 ],
 "metadata": {
  "kernelspec": {
   "display_name": "Python 3",
   "language": "python",
   "name": "python3"
  },
  "language_info": {
   "codemirror_mode": {
    "name": "ipython",
    "version": 3
   },
   "file_extension": ".py",
   "mimetype": "text/x-python",
   "name": "python",
   "nbconvert_exporter": "python",
   "pygments_lexer": "ipython3",
   "version": "3.10.11"
  }
 },
 "nbformat": 4,
 "nbformat_minor": 5
}
