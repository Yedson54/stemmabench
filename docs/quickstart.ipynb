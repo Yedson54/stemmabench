{
 "cells": [
  {
   "cell_type": "markdown",
   "id": "7791ac88",
   "metadata": {},
   "source": [
    "# Quickstart in interactive mode"
   ]
  },
  {
   "cell_type": "markdown",
   "id": "d6f45336",
   "metadata": {},
   "source": [
    "There are two ways to use *stemmabench*. The first one consists in using it using the command line (please refer to the README). It is also possible to use `stemmabench` entirely in memory.\n",
    "\n",
    "To use Stemma Bench in interactive mode, you need to:\n",
    "- Import the stemmabench library\n",
    "- Define the wanted configuration"
   ]
  },
  {
   "cell_type": "code",
   "execution_count": 10,
   "id": "303ffee3",
   "metadata": {},
   "outputs": [
    {
     "data": {
      "text/plain": [
       "1"
      ]
     },
     "execution_count": 10,
     "metadata": {},
     "output_type": "execute_result"
    }
   ],
   "source": [
    "import sys\n",
    "from stemmabench.stemma_generator import Stemma\n",
    "from stemmabench.config_parser import StemmaBenchConfig\n",
    "from loguru import logger\n",
    "# Set logging level to info\n",
    "logger.remove()\n",
    "logger.add(sys.stderr, level=\"INFO\")"
   ]
  },
  {
   "cell_type": "code",
   "execution_count": 11,
   "id": "2d96529b",
   "metadata": {},
   "outputs": [],
   "source": [
    "config = StemmaBenchConfig(**{\n",
    "    \"meta\": {\n",
    "      \"language\": \"eng\"  \n",
    "    },\n",
    "    \"stemma\": {\n",
    "        \"depth\": 3,\n",
    "        \"width\": {\n",
    "            \"law\": \"Uniform\",\n",
    "            \"min\": 2,\n",
    "            \"max\": 4\n",
    "        }\n",
    "    },\n",
    "    \"variants\": {\n",
    "    \"sentences\": {\n",
    "        \"duplicate\": {\n",
    "                    \"args\": {\n",
    "                                \"nbr_words\": 1\n",
    "                            },\n",
    "                            \"law\": \"Bernouilli\",\n",
    "                            \"rate\": 1\n",
    "                        }\n",
    "    },\n",
    "        \"words\": {\n",
    "                    \"synonym\": {\n",
    "                        \"law\": \"Bernouilli\",\n",
    "                        \"rate\": 0.05,\n",
    "                        \"args\": {}\n",
    "                    },\n",
    "                    \"mispell\": {\n",
    "                        \"law\": \"Bernouilli\",\n",
    "                        \"rate\": 0.001,\n",
    "                        \"args\": {}\n",
    "                    },\n",
    "                    \"omit\": {\n",
    "                        \"law\": \"Bernouilli\",\n",
    "                        \"rate\": 0.001,\n",
    "                        \"args\": {}\n",
    "                    }\n",
    "             }\n",
    "             }\n",
    "})"
   ]
  },
  {
   "cell_type": "markdown",
   "id": "695b538e",
   "metadata": {},
   "source": [
    "You then need to select the original text you want to generate a tradition from."
   ]
  },
  {
   "cell_type": "code",
   "execution_count": 12,
   "id": "a5729689",
   "metadata": {},
   "outputs": [],
   "source": [
    "DEMO_TEXT = \"LOVE bade me welcome; yet my soul drew back, Guilty of dust and sin. But quick-eyed Love, observing me grow slack, From my first entrance in, Drew nearer to me, sweetly questioning If I lack'd anything.\""
   ]
  },
  {
   "cell_type": "markdown",
   "id": "460b1a5a",
   "metadata": {},
   "source": [
    "Create a stemma object:"
   ]
  },
  {
   "cell_type": "code",
   "execution_count": 13,
   "id": "6b082d9f",
   "metadata": {},
   "outputs": [],
   "source": [
    "stemma = Stemma(original_text=DEMO_TEXT, config=config)"
   ]
  },
  {
   "cell_type": "markdown",
   "id": "0cd7734c",
   "metadata": {},
   "source": [
    "And then generate a tradition !"
   ]
  },
  {
   "cell_type": "code",
   "execution_count": 14,
   "id": "04dd3fb5",
   "metadata": {},
   "outputs": [
    {
     "data": {
      "text/plain": [
       "Tree({\n",
       "  \"LOVE bade me welcome; yet my soul drew back, Guilty of dust and sin. But quick-eyed Love, observing me grow slack, From my first entrance in, Drew nearer to me, sweetly questioning If I lack'd anything.\": {\n",
       "    \"Love bade me welcome yet my my soul drew back guilty of dust and sin. But quickeyed love observing me grow slack from my first entrance in drew drew closer to me sweetly questioning if i lackd anything.\": {\n",
       "      \"Love bade me welcome welcome yet my my soul drew back guilty of dust and trespass. But quickeyed love observing me grow slack from my first entrance in drew drew closer to me sweetly questioning if i lackd lackd anything.\": {\n",
       "        \"Love bade me welcome receive yet my my soul drew back guilty of dust and and trespass. Only quickeyed love observing me grow slack from my first entrance in drew drew closer to me sweetly sweetly questioning if i lackd lackd anything.\": [\n",
       "          \"Love bade me me welcome receive yet my my soul drew back guilty of dust and and trespass. Only quickeyed love observing me grow slack from my first entrance in in drew drew closer to me sweetly sweetly questioning if i lackd lackd anything.\",\n",
       "          \"Know bade me welcome welcome receive yet my my soul drew back guilty of dust and and trespass. Only quickeyed love observant me grow slack from my first entrance in drew drew closer to me sweet sweetly questioning if if unit lackd lackd anything.\"\n",
       "        ],\n",
       "        \"Love love bade me welcome welcome yet my my soulfulness drew back guilty of dust and trespass. But quickeyed love observing me grow slack from my first entrance atomic number 49 drew drew drew closer to me sweetly questioning if i lackd lackd anything.\": [\n",
       "          \"Love love bade me me welcome welcome yet my my soulfulness drew back guilty of dust and trespass. But quickeyed love observing me grow slacke from my first entrance entrance atomic number 49 drew drew drew closer to me sweetly questioning if i lackd lackd anything.\",\n",
       "          \"Lohe love bade me welcome welcome so far my my soulfulness drew back back guilty of dust and trespass. But quickeyed love observing me me grow slack from my first entrance atomic number 49 drew drew drew closer to me sweetly questioning if i lackd lackd anything.\",\n",
       "          \"Love love bade me welcome welcome yet my my soulfulness drew drew back guilty of dust and trespass. But quickeyed love love observing me grow slack from my first entrance atomic number 49 drew drew drew closer to me sweetly questioning if i lackd lackd anything.\"\n",
       "        ]\n",
       "      },\n",
       "      \"Love bade me welcome so far my my soul drew back back guilty of dust and sin. But quickeyed love observing me grow slack from my first entrance in drew drew closer to me sweetly questioning if i lackd lackd anything.\": {\n",
       "        \"Love bade me welcome so far my my soul drew back back guilty of dust dust and sin. But quickeyed quickeyed love observing me grow slack from my first entrance in drew drew closer to me sweetly questioning if i lackd lackd anything.\": [\n",
       "          \"Love bade me welcome so far my my soul drew back back back up guilty of dust dust and transgress. But quickeyed quickeyed love observing me grow slack from my first entrance in drew drew closer to me sweetly questioning if i lackd lackd lackd anything.\",\n",
       "          \"Love bade me welcome so far my my soul drew drew back off back guilty of dust dust and sin. But quickeyed quickeyed quickeyed love observing me grow slack from my first entrance in drew drew closer to me sweetly questioning if i lackd lackd anything.\",\n",
       "          \"Love bade me welcome welcome so far my my soul drew back back guilty of dust dust and sin. But quickeyed quickeyed love observing me grow slow from my first entrance in drew drew closer closer to me sweetly inquiring if i lackd lackd anything.\"\n",
       "        ],\n",
       "        \"Love bade me welcome so far my my my soul drew back back guilty of dust and sin. But quickeyed love observing me grow slack from my first spellbind in drew drew closer to me sweetly questioning if if i lackd lackd anything.\": [\n",
       "          \"Love love bade me welcome so far my my my soul drew back back down guilty of dust and sin. But quickeyed love observing me grow slack from my first spellbind in drew drew closer to to maine sweetly questioning if if i lackd lackd anything.\",\n",
       "          \"Love bade me receive so far my my my soul drew drew back back guilty of dust and sin. But quickeyed love observing me grow slack from my first spellbind in drew drew closer to me sweetly sweetly questioning if if i lackd lackd anything.\",\n",
       "          \"Love bade me welcome so far my my my soul drew back back back guilty of dust and sin. But quickeyed love observing me me grow slack from my first spellbind in drew drew closer to me sweetly questioning if if unit lqckd lackd anything.\"\n",
       "        ],\n",
       "        \"Love bade me me welcome sol far my my soul drew back back guilty of dust and sin. Only quickeyed love observing me grow slack slack from my first entrance in drew drew closer to me sweetly questioning if i lackd lackd anything.\": [\n",
       "          \"Love bade me me welcome sol far my my soul drew back back guilty of dust and and sin. Only quickeyed love observing me grow slack slack from my my first entrance in drew drew closer to me sweetly questioning if i lackd lackd anything.\",\n",
       "          \"Love bade me me welcome sol far my my soul drew back back guilty of of dust and sin. Only quickeyed sleep with observing me grow slack slack from my first entrance in drew drew closer to me sweetly sweetly questioning if i lackd lackd anything.\",\n",
       "          \"Love bade maine me welcome sol far my my soul drew back back back guilty of dust and sin. Only quickeyed love observing me grow grow slack slack from my first entrance in drew drew closer to me sweetly questioning if i lackd lackd anything.\"\n",
       "        ]\n",
       "      }\n",
       "    },\n",
       "    \"Love bade bade me welcome yet my soul drew back guilty of dust and sin. But quickeyed love observing me grow turn slack from my first entrance in drew nearer to me sweetly questioning if i lackd anything.\": {\n",
       "      \"Love bade bade bade me welcome yet my soul drew back guilty of dust and sin. But quickeyed love observing me grow turn slack from my first entrance in drew drew nearer to me sweetly questioning if i lackd anything.\": {\n",
       "        \"Love bade bade bade me welcome yet my my soul drew back guilty of dust and sin. But quickeyed love observing me grow turn slack from my first entrance in drew drew nearer to me me sweetly questioning if i lackd anything.\": [\n",
       "          \"Love bade bade bade me me welcome yet my my soul drew back hangdog of dust and sin. But quickeyed love observing me grow turn slack from my first entrance in drew drew nearer to me me sweetly questioning if i lackd lackd anything.\",\n",
       "          \"Love bade bade bade me welcome yet my my soul drew back guilty of dust and and sin. But quickeyed get laid observing observing me grow turn slack from my first entrance in drew drew nearer to me me sweetly questioning if i lackd anything.\",\n",
       "          \"Love bade bade bade me welcome yet my my soul drew back guilty guilty of dust and sin. But quickeyed roll in the hay observing me grow grow turn slack from my first entrance in drew drew nearer to me me sweetly questioning if i lackd anything.\"\n",
       "        ],\n",
       "        \"Love bade bade bade me welcome welcome so far my soul drew back guilty of dust and sin. But quickeyed love perceptive me grow turn slacke from my first entrance in drew drew nearer to maine sweetly sweetly questioning if i lackd anything.\": [\n",
       "          \"Love bade bade bade me welcome welcome welcome so far my soul drew back guilty of dust and sin. But quickeyed love perceptive me grow grow turn slacke from my first entrance indium drew drew nearer to maine sweetly sweetly questioning if i lackd anything.\",\n",
       "          \"Love bade bade bade me welcome welcome so far my soul drew back guilty of dust dust and sin. But quickeyed love perceptive me grow turn slacke from my first entrance in drew drew nearer to to maine sweetly sweetly questioning if i lackd anything.\"\n",
       "        ]\n",
       "      },\n",
       "      \"Hump bade bade me welcome yet yet my soul drew back guilty of dust and sin. But quickeyed love observing me grow turn slow from my first entrance in drew nearer to me sweetly questioning if i lackd anything.\": {\n",
       "        \"Hump bade bade me welcome yet so far my my soul drew back guilty of dust and sin. But quickeyed love observing me grow turn turn slow from my first entrance in drew nearer to me sweetly questioning if i lackd anything.\": [\n",
       "          \"Hump bade bade me welcome yet so far my my soul john drew back guilty of dust and and sin. But quickeyed love observing me grow turn turn slow from my first entrance in drew drew nearer to me sweetly questioning if i lackd anything.\",\n",
       "          \"Hump bade bade me welcome yet so far my my soul drew drew back guilty of dust and sin. But quickeyed love observing me grow turn turn slow from my first entrance in drew nearer to me sweetly questioning questioning if i lackd anything.\"\n",
       "        ],\n",
       "        \"Hump bade bade me welcome yet yet my soulfulness drew drew back guilty of dust and sin. But quickeyed love observing me grow turn slow from my first entrance in drew nearer to to maine sweetly questioning if i lackd anything.\": [\n",
       "          \"Hump bade bade bade me welcome yet yet my soulfulness drew drew back guilty of dust and transgress. But quickeyed love observing observing maine grow turn slow from my first entrance in drew nearer to to maine sweetly questioning if i lackd anything.\",\n",
       "          \"Hump bade bade me welcome yet yet my soulfulness drew drew drew back guilty of dust and sin. But quickeyed love observing me grow turn slow from my my first entrance in drew nearer to to maine sweetly questioning if i lackd anything.\",\n",
       "          \"Hump bade bade bade me welcome yet yet my soulfulness drew drew back guilty of dust and sin. But quickeyed love observing me grow turn slow from my first entrance in in drew nearer to to maine sweetly questioning if i lackd anything.\"\n",
       "        ]\n",
       "      },\n",
       "      \"Love bade bade me welcome yet my soul drew back guilty guilty of dust and sin. But quickeyed love observing me grow turn slack from my first entrance in drew nearer to me sweetly questioning if i lackd lackd anything.\": {\n",
       "        \"Love bade bade me welcome yet my soul drew back guilty guilty of of dust and sin. But quickeyed love perceptive me me grow turn slack from my first entrance in drew closer to me sweetly questioning if i lackd lackd anything.\": [\n",
       "          \"Love bade bade me welcome yet my soul drew back back guilty guilty of of dust and sin. But quickeyed love perceptive me me turn turn slack from my first entrance in drew closer to me sweetly sweetly questioning if i lackd lackd anything.\",\n",
       "          \"Love bade bade me welcome yet my soul drew back guilty guilty of of of dust and sin. But quickeyed love perceptive me me grow wrench turn slack from my first entrance in drew closer to me sweetly questioning if i lackd lackd anything.\",\n",
       "          \"Love bade bade me welcome yet my soul drew back guilty guilty of of of dust and sin. Merely quickeyed love love perceptive me me grow wrench slack from my first entrance in drew closer to me sweetly questioning if i lackd lackd anything.\"\n",
       "        ],\n",
       "        \"Love bade bade me welcome yet my soul drew back shamefaced guilty guilty of dust and sin. But quickeyed love observing me grow turn slack from my first entrance in drew nearer to me sweetly questioning if if i lackd lackd anything.\": [\n",
       "          \"Love bade bade me welcome yet my soul drew back out shamefaced guilty guilty guilty of dust and sin. But quickeyed love observing me grow turn slack from my first entrance atomic number 49 john drew nearer to me sweetly questioning if if if i lackd lackd anything.\",\n",
       "          \"Love bade bade me welcome yet my soul drew drew back shamefaced guilty guilty of dust and sin. But quickeyed lie with love observing me turn turn slack from my first entrance in drew nearer to me sweetly questioning if if i lackd lackd anything.\"\n",
       "        ],\n",
       "        \"Love bade bade me welcome yet my my soul drew back guilty guilty of dust and sin. But quickeyed love observing me grow turn slack from my first entrance in drew nearer nearer to me sweetly questioning if i lackd lackd anything.\": [\n",
       "          \"Love bade bade me welcome yet my my soul drew back guilty shamefaced guilty of dust and transgress. But quickeyed love observing me me grow turn slack from my number 1 spellbind in drew nigher nearer to me sweetly questioning if i lackd lackd anything.\",\n",
       "          \"Love bade bade me welcome yet my my soul drew back guilty guilty of dust and and sin. But quickeyed love observing me grow turn slack from my first entrance in drew nearer nigher to me sweetly inquiring if i lackd lackd anything.\",\n",
       "          \"Love bade bade me welcome yet my my soul drew back out guilty guilty of dust and and sin. But quickeyed love observing me grow turn slack from my first entrance in drew nearer nearer to me me sweetly questioning if i lackd lackd anything.\"\n",
       "        ]\n",
       "      }\n",
       "    },\n",
       "    \"Love bade me welcome yet my soul drew drew back guilty of dust and sin. But quickeyed love observing me grow slack from my first entrance in drew nearer to me sweetly sweetly questioning if i lackd anything.\": {\n",
       "      \"Love bade me welcome yet my soul drew drew back guilty of dust and and sin. But quickeyed love observing maine grow slack from my first entrance in drew nearer to me sweetly sweetly questioning if i lackd lackd anything.\": {\n",
       "        \"Love bade me me welcome yet my soul john drew drew back guilty of dust and and sin. But quickeyed love observing maine turn slacke from my number one entrance in drew nearer to me sweetly sweetly questioning ir i lackd lackd anything.\": [\n",
       "          \"Love bade me me welcome yet my soul soul john drew john drew back guilty of dust and and sin. But quickeyed love observing maine turn slacke from my number one entrance in drew nearer nearer to me sweetly sweetly questioning ir i lackd lackd anything.\",\n",
       "          \"Love bade me me welcome yet my my soul john drew drew back guilty of dust and and sin. But quickeyed quickeyed love observing maine turn slacke from my number one spellbind in drew nearer to me sweetly sweetly questioning ir i lackd lackd anything.\",\n",
       "          \"Love bade me me welcome yet my soul soul john drew drew back guilty of dust and and trespass. But quickeyed love observing maine turn slacke from my number one entrance in drew nearer to me sweetly sweetly questioning ir i i lackd lackd anything.\"\n",
       "        ],\n",
       "        \"Love love bade me welcome yet my soul drew drew back guilty of dust and and sin. But quickeyed love observing maine grow slack from my first entrance in drew nearer to me sweetly sweetly sweetly questioning if i lackd lackd anything.\": [\n",
       "          \"Love love bade me welcome yet my soul john drew drew drew back guilty of dust and and sin. But quickeyed love observing maine grow slack from my my first entrance in john drew nearer to me sweet sweetly sweetly questioning if i lackd lackd anything.\",\n",
       "          \"Love love love bade me welcome yet my soulfulness drew drew back guilty of dust and and sin. But but quickeyed do it observing maine grow slack from my number one entrance in drew nearer to me sweetly sweetly sweetly questioning if i lackd lackd anything.\",\n",
       "          \"Love love bade me welcome yet my soul drew drew back back guilty of dust and and sin. But quickeyed love observing maine grow slack from my first entrance in drew nearer to me sweetly sweetly sweetly questioning if if i lackd lackd anything.\"\n",
       "        ],\n",
       "        \"Love bade me welcome yet my soul drew drew back back guilty of dust and and sin. But qut quickeyed love observing maine grow slack from my first entrance in drew nearer to me sweetly sweetly questioning if i lackd lackd anything.\": [\n",
       "          \"Love bade me welcome yet my soul drew drew back back back guilty of dust and and sin. But qut quickeyed quickeyed love observing maine grow slack from my first entrance in drew nearer to me sweetly sweetly questioning if i lackd lackd anything.\",\n",
       "          \"Love bade me welcome yet my soul drew drew back back guilty guilty of dust and and sin. But qut quickeyed love observing maine grow slack from my first entrance entrance indium drew nearer to me sweet sweetly questioning if i lackd lackd anything.\",\n",
       "          \"Love bade me welcome yet my soulfulness drew drew back back back guilty of dust and and sin. Merely qut quickeyed love observing maine maine grow slack from my first entrance en drew nearer to me sweetly sweetly inquiring if i lackd lackd anything.\"\n",
       "        ]\n",
       "      },\n",
       "      \"Love bade pine tree state welcome yet my soul drew drew back guilty of of dust and sin. But quickeyed love observing me grow slack from my first entrance in in john drew nearer to me sweetly sweetly questioning if i lackd anything.\": {\n",
       "        \"Love bade yen tree state welcome so far my soul soul john drew drew back guilty of of dust and sin. Merely quickeyed love love observing mo grow slow down from my number one entrance in in john drew nearer to me sweetly sweetly questioning if i lackd anything.\": [\n",
       "          \"Love bade yen tree state welcome welcome sol far my soulfulness soul john drew drew back guilty of of dust and sin. Merely quickeyed love love observing mo grow slow doln from my number one entrance in in john drew nearer to me sweetly sweetly sweetly questioning if i lackd anything.\",\n",
       "          \"Love bade yen tree state state welcome so far my soul soul john drew drew back guilty of of dust and sin. Merely merely quickeyed love love observing mo grow slow down from my number one entrance in in john drew nearer to me sweetly sweetly inquiring if i lackd anything.\"\n",
       "        ],\n",
       "        \"Love bade pine tree state welcome welcome so far my soul drew drew back guilty of of dust and sin. But quickeyed love observing me grow slack slack from my first entrance in in john drew nearer to me sweetly sweetly questioning if i lackd anything.\": [\n",
       "          \"Love bade pine tree tree state welcome welcome so far my soul drew drew back guilty of of dust and sin. But quickeyed love love observing me grow slack slack from my number 1 entrance in in john drew nearer to me sweetly sweetly questioning if i lackd anything.\",\n",
       "          \"Love bade pine tree state welcome welcome sol far my soul drew drew drew back guilty of of dust and sin. But quickeyed love observing me grow slack slack from my first entrance in indium john drew nearer to me sweetly sweetly questioning if i i lackd anything.\"\n",
       "        ]\n",
       "      },\n",
       "      \"Love bade me welcome yet my soul drew drew back guilty of of dust and sin. But quickeyed love observing me grow slack from my first entrance atomic number 49 drew drew nearer to me sweetly sweetly questioning if i lackd anything.\": {\n",
       "        \"Love love bade me welcome yet my soul drew drew back shamed of of dust and sin. But quickeyed love observing me grow slack from my number 1 entrance atomic number 49 drew drew nearer to me sweetly sweetly questioning if i lackd anything.\": [\n",
       "          \"Love love bade me welcome yet my soul drew drew back shamed of of of dust and sin. But quickeyed love observing me grow slack from my number 1 entrance atomic number 49 drew john drew drew nearer to me sweetly sweetly questioning if i lackd anything.\",\n",
       "          \"Love love bade me welcome yet my soul drew drew back shamed of of of dust and sin. But quickeyed love observing me turn slack from my number 1 entrance atomic number 49 drew drew drew nearer to me sweetly sweetly questioning if i lackd anything.\",\n",
       "          \"Love love bade me welcome yet my soul drew drew john drew back shamed of of dust and sin. But quickeyed love observing me grow slack from my number 1 entrance atomic number number 49 drew drew nearer to me sweetly sweetly questioning if i lackd anything.\"\n",
       "        ],\n",
       "        \"Love love bade me welcome yet my soul drew drew back guilty of of dust and sin. But quickeyed love observing me grow slack from my first first entrance atomic number 49 drew drew nearer to me sweetly sweetly questioning if i lackd anything.\": [\n",
       "          \"Love love bade me welcome yet my soul drew drew back guilty of of of dust and sin. But quickeyed love observing pine tree state grow slack from my first first entrance atomic number 49 drew drew nearer to me sweetly sweetly sweetly questioning if i lackd anything.\",\n",
       "          \"Love love bade bade me welcome yet my soul drew drew back guilty of of dust and sin. Simply quickeyed love observing me grow slack slack from my first first spellbind atomic number 49 drew drew nearer to me sweetly sweetly questioning if i lackd anything.\"\n",
       "        ]\n",
       "      }\n",
       "    }\n",
       "  }\n",
       "})"
      ]
     },
     "execution_count": 14,
     "metadata": {},
     "output_type": "execute_result"
    }
   ],
   "source": [
    "stemma.generate()"
   ]
  },
  {
   "cell_type": "markdown",
   "id": "8d82129c",
   "metadata": {},
   "source": [
    "Each text can be accessed through its lookup table, which can be used to get the tree stemma."
   ]
  },
  {
   "cell_type": "code",
   "execution_count": 17,
   "id": "3c80925d",
   "metadata": {},
   "outputs": [
    {
     "data": {
      "text/plain": [
       "{'0': \"LOVE bade me welcome; yet my soul drew back, Guilty of dust and sin. But quick-eyed Love, observing me grow slack, From my first entrance in, Drew nearer to me, sweetly questioning If I lack'd anything.\",\n",
       " '0:0': 'Love bade me welcome yet my my soul drew back guilty of dust and sin. But quickeyed love observing me grow slack from my first entrance in drew drew closer to me sweetly questioning if i lackd anything.',\n",
       " '0:1': 'Love bade bade me welcome yet my soul drew back guilty of dust and sin. But quickeyed love observing me grow turn slack from my first entrance in drew nearer to me sweetly questioning if i lackd anything.',\n",
       " '0:2': 'Love bade me welcome yet my soul drew drew back guilty of dust and sin. But quickeyed love observing me grow slack from my first entrance in drew nearer to me sweetly sweetly questioning if i lackd anything.',\n",
       " '0:0:0': 'Love bade me welcome welcome yet my my soul drew back guilty of dust and trespass. But quickeyed love observing me grow slack from my first entrance in drew drew closer to me sweetly questioning if i lackd lackd anything.',\n",
       " '0:0:1': 'Love bade me welcome so far my my soul drew back back guilty of dust and sin. But quickeyed love observing me grow slack from my first entrance in drew drew closer to me sweetly questioning if i lackd lackd anything.',\n",
       " '0:1:0': 'Love bade bade bade me welcome yet my soul drew back guilty of dust and sin. But quickeyed love observing me grow turn slack from my first entrance in drew drew nearer to me sweetly questioning if i lackd anything.',\n",
       " '0:1:1': 'Hump bade bade me welcome yet yet my soul drew back guilty of dust and sin. But quickeyed love observing me grow turn slow from my first entrance in drew nearer to me sweetly questioning if i lackd anything.',\n",
       " '0:1:2': 'Love bade bade me welcome yet my soul drew back guilty guilty of dust and sin. But quickeyed love observing me grow turn slack from my first entrance in drew nearer to me sweetly questioning if i lackd lackd anything.',\n",
       " '0:2:0': 'Love bade me welcome yet my soul drew drew back guilty of dust and and sin. But quickeyed love observing maine grow slack from my first entrance in drew nearer to me sweetly sweetly questioning if i lackd lackd anything.',\n",
       " '0:2:1': 'Love bade pine tree state welcome yet my soul drew drew back guilty of of dust and sin. But quickeyed love observing me grow slack from my first entrance in in john drew nearer to me sweetly sweetly questioning if i lackd anything.',\n",
       " '0:2:2': 'Love bade me welcome yet my soul drew drew back guilty of of dust and sin. But quickeyed love observing me grow slack from my first entrance atomic number 49 drew drew nearer to me sweetly sweetly questioning if i lackd anything.',\n",
       " '0:0:0:0': 'Love bade me me welcome yet my soul john drew drew back guilty of dust and and sin. But quickeyed love observing maine turn slacke from my number one entrance in drew nearer to me sweetly sweetly questioning ir i lackd lackd anything.',\n",
       " '0:0:0:1': 'Love love bade me welcome yet my soul drew drew back guilty of dust and and sin. But quickeyed love observing maine grow slack from my first entrance in drew nearer to me sweetly sweetly sweetly questioning if i lackd lackd anything.',\n",
       " '0:0:1:0': 'Love bade yen tree state welcome so far my soul soul john drew drew back guilty of of dust and sin. Merely quickeyed love love observing mo grow slow down from my number one entrance in in john drew nearer to me sweetly sweetly questioning if i lackd anything.',\n",
       " '0:0:1:1': 'Love bade pine tree state welcome welcome so far my soul drew drew back guilty of of dust and sin. But quickeyed love observing me grow slack slack from my first entrance in in john drew nearer to me sweetly sweetly questioning if i lackd anything.',\n",
       " '0:0:1:2': 'Love bade me me welcome sol far my my soul drew back back guilty of dust and sin. Only quickeyed love observing me grow slack slack from my first entrance in drew drew closer to me sweetly questioning if i lackd lackd anything.',\n",
       " '0:0:2:0': 'Love love bade me welcome yet my soul drew drew back shamed of of dust and sin. But quickeyed love observing me grow slack from my number 1 entrance atomic number 49 drew drew nearer to me sweetly sweetly questioning if i lackd anything.',\n",
       " '0:0:2:1': 'Love love bade me welcome yet my soul drew drew back guilty of of dust and sin. But quickeyed love observing me grow slack from my first first entrance atomic number 49 drew drew nearer to me sweetly sweetly questioning if i lackd anything.',\n",
       " '0:0:2:2': 'Love bade bade me welcome yet my my soul drew back guilty guilty of dust and sin. But quickeyed love observing me grow turn slack from my first entrance in drew nearer nearer to me sweetly questioning if i lackd lackd anything.',\n",
       " '0:0:0:2': 'Love bade me welcome yet my soul drew drew back back guilty of dust and and sin. But qut quickeyed love observing maine grow slack from my first entrance in drew nearer to me sweetly sweetly questioning if i lackd lackd anything.',\n",
       " '0:0:1:0:0': 'Love love bade me welcome yet my soul drew drew back shamed of of of dust and sin. But quickeyed love observing me grow slack from my number 1 entrance atomic number 49 drew john drew drew nearer to me sweetly sweetly questioning if i lackd anything.',\n",
       " '0:0:1:0:1': 'Love love bade me welcome yet my soul drew drew back shamed of of of dust and sin. But quickeyed love observing me turn slack from my number 1 entrance atomic number 49 drew drew drew nearer to me sweetly sweetly questioning if i lackd anything.',\n",
       " '0:0:1:1:0': 'Love love bade me welcome yet my soul drew drew back guilty of of of dust and sin. But quickeyed love observing pine tree state grow slack from my first first entrance atomic number 49 drew drew nearer to me sweetly sweetly sweetly questioning if i lackd anything.',\n",
       " '0:0:1:1:1': 'Love love bade bade me welcome yet my soul drew drew back guilty of of dust and sin. Simply quickeyed love observing me grow slack slack from my first first spellbind atomic number 49 drew drew nearer to me sweetly sweetly questioning if i lackd anything.',\n",
       " '0:0:1:1:2': 'Love love bade me welcome yet my soul drew drew back back guilty of dust and and sin. But quickeyed love observing maine grow slack from my first entrance in drew nearer to me sweetly sweetly sweetly questioning if if i lackd lackd anything.',\n",
       " '0:0:1:0:2': 'Love love bade me welcome yet my soul drew drew john drew back shamed of of dust and sin. But quickeyed love observing me grow slack from my number 1 entrance atomic number number 49 drew drew nearer to me sweetly sweetly questioning if i lackd anything.',\n",
       " '0:0:1:2:0': 'Love bade me welcome yet my soul drew drew back back back guilty of dust and and sin. But qut quickeyed quickeyed love observing maine grow slack from my first entrance in drew nearer to me sweetly sweetly questioning if i lackd lackd anything.',\n",
       " '0:0:1:2:1': 'Love bade me welcome yet my soul drew drew back back guilty guilty of dust and and sin. But qut quickeyed love observing maine grow slack from my first entrance entrance indium drew nearer to me sweet sweetly questioning if i lackd lackd anything.',\n",
       " '0:0:1:2:2': 'Love bade me welcome yet my soulfulness drew drew back back back guilty of dust and and sin. Merely qut quickeyed love observing maine maine grow slack from my first entrance en drew nearer to me sweetly sweetly inquiring if i lackd lackd anything.'}"
      ]
     },
     "execution_count": 17,
     "metadata": {},
     "output_type": "execute_result"
    }
   ],
   "source": [
    "stemma.texts_lookup"
   ]
  },
  {
   "cell_type": "markdown",
   "id": "e07960b4",
   "metadata": {},
   "source": [
    "It is also possible to access the edges describing only the manuscript names and their family relation."
   ]
  },
  {
   "cell_type": "code",
   "execution_count": 19,
   "id": "58334fa8",
   "metadata": {},
   "outputs": [
    {
     "data": {
      "text/plain": [
       "[('0', '0:0'),\n",
       " ('0', '0:1'),\n",
       " ('0', '0:2'),\n",
       " ('0:0', '0:0:0'),\n",
       " ('0:0', '0:0:1'),\n",
       " ('0:1', '0:1:0'),\n",
       " ('0:1', '0:1:1'),\n",
       " ('0:1', '0:1:2'),\n",
       " ('0:2', '0:2:0'),\n",
       " ('0:2', '0:2:1'),\n",
       " ('0:2', '0:2:2'),\n",
       " ('0:0:0', '0:0:0:0'),\n",
       " ('0:0:0', '0:0:0:1'),\n",
       " ('0:0:1', '0:0:1:0'),\n",
       " ('0:0:1', '0:0:1:1'),\n",
       " ('0:0:1', '0:0:1:2'),\n",
       " ('0:0:0', '0:0:0:0'),\n",
       " ('0:0:0', '0:0:0:1'),\n",
       " ('0:0:1', '0:0:1:0'),\n",
       " ('0:0:1', '0:0:1:1'),\n",
       " ('0:0:2', '0:0:2:0'),\n",
       " ('0:0:2', '0:0:2:1'),\n",
       " ('0:0:2', '0:0:2:2'),\n",
       " ('0:0:0', '0:0:0:0'),\n",
       " ('0:0:0', '0:0:0:1'),\n",
       " ('0:0:0', '0:0:0:2'),\n",
       " ('0:0:1', '0:0:1:0'),\n",
       " ('0:0:1', '0:0:1:1'),\n",
       " ('0:0:2', '0:0:2:0'),\n",
       " ('0:0:2', '0:0:2:1'),\n",
       " ('0:0:1:0', '0:0:1:0:0'),\n",
       " ('0:0:1:0', '0:0:1:0:1'),\n",
       " ('0:0:1:1', '0:0:1:1:0'),\n",
       " ('0:0:1:1', '0:0:1:1:1'),\n",
       " ('0:0:1:1', '0:0:1:1:2'),\n",
       " ('0:0:1:0', '0:0:1:0:0'),\n",
       " ('0:0:1:0', '0:0:1:0:1'),\n",
       " ('0:0:1:0', '0:0:1:0:2'),\n",
       " ('0:0:1:1', '0:0:1:1:0'),\n",
       " ('0:0:1:1', '0:0:1:1:1'),\n",
       " ('0:0:1:1', '0:0:1:1:2'),\n",
       " ('0:0:1:2', '0:0:1:2:0'),\n",
       " ('0:0:1:2', '0:0:1:2:1'),\n",
       " ('0:0:1:2', '0:0:1:2:2'),\n",
       " ('0:0:1:0', '0:0:1:0:0'),\n",
       " ('0:0:1:0', '0:0:1:0:1'),\n",
       " ('0:0:1:0', '0:0:1:0:2'),\n",
       " ('0:0:1:1', '0:0:1:1:0'),\n",
       " ('0:0:1:1', '0:0:1:1:1'),\n",
       " ('0:0:1:0', '0:0:1:0:0'),\n",
       " ('0:0:1:0', '0:0:1:0:1'),\n",
       " ('0:0:1:1', '0:0:1:1:0'),\n",
       " ('0:0:1:1', '0:0:1:1:1'),\n",
       " ('0:0:1:1', '0:0:1:1:2'),\n",
       " ('0:0:1:0', '0:0:1:0:0'),\n",
       " ('0:0:1:0', '0:0:1:0:1'),\n",
       " ('0:0:1:0', '0:0:1:0:2'),\n",
       " ('0:0:1:1', '0:0:1:1:0'),\n",
       " ('0:0:1:1', '0:0:1:1:1'),\n",
       " ('0:0:1:2', '0:0:1:2:0'),\n",
       " ('0:0:1:2', '0:0:1:2:1'),\n",
       " ('0:0:1:2', '0:0:1:2:2'),\n",
       " ('0:0:1:0', '0:0:1:0:0'),\n",
       " ('0:0:1:0', '0:0:1:0:1'),\n",
       " ('0:0:1:0', '0:0:1:0:2'),\n",
       " ('0:0:1:1', '0:0:1:1:0'),\n",
       " ('0:0:1:1', '0:0:1:1:1'),\n",
       " ('0:0:1:1', '0:0:1:1:2'),\n",
       " ('0:0:1:2', '0:0:1:2:0'),\n",
       " ('0:0:1:2', '0:0:1:2:1'),\n",
       " ('0:0:1:2', '0:0:1:2:2'),\n",
       " ('0:0:1:0', '0:0:1:0:0'),\n",
       " ('0:0:1:0', '0:0:1:0:1'),\n",
       " ('0:0:1:1', '0:0:1:1:0'),\n",
       " ('0:0:1:1', '0:0:1:1:1'),\n",
       " ('0:0:1:0', '0:0:1:0:0'),\n",
       " ('0:0:1:0', '0:0:1:0:1'),\n",
       " ('0:0:1:0', '0:0:1:0:2'),\n",
       " ('0:0:1:1', '0:0:1:1:0'),\n",
       " ('0:0:1:1', '0:0:1:1:1')]"
      ]
     },
     "execution_count": 19,
     "metadata": {},
     "output_type": "execute_result"
    }
   ],
   "source": [
    "stemma.edges"
   ]
  }
 ],
 "metadata": {
  "kernelspec": {
   "display_name": "stemmabench",
   "language": "python",
   "name": "stemmabench"
  },
  "language_info": {
   "codemirror_mode": {
    "name": "ipython",
    "version": 3
   },
   "file_extension": ".py",
   "mimetype": "text/x-python",
   "name": "python",
   "nbconvert_exporter": "python",
   "pygments_lexer": "ipython3",
   "version": "3.8.8"
  }
 },
 "nbformat": 4,
 "nbformat_minor": 5
}
